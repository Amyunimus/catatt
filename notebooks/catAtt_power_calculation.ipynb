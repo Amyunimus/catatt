{
 "cells": [
  {
   "cell_type": "code",
   "execution_count": 1,
   "metadata": {
    "collapsed": false
   },
   "outputs": [
    {
     "name": "stdout",
     "output_type": "stream",
     "text": [
      "Populating the interactive namespace from numpy and matplotlib\n",
      "try({require(lme4)})\n",
      "Loading required package: lme4\n",
      "Loading required package: Matrix\n",
      "\n",
      "try({require(pwr)})\n",
      "Loading required package: pwr\n",
      "\n"
     ]
    }
   ],
   "source": [
    "%pylab inline\n",
    "\n",
    "import pandas as pd\n",
    "import numpy as np\n",
    "from scipy import stats\n",
    "import seaborn as sns\n",
    "sns.set(style=\"whitegrid\")\n",
    "from pyper import R\n",
    "r = R(use_pandas = True)\n",
    "print r('require(lme4)')\n",
    "print r('require(pwr)')"
   ]
  },
  {
   "cell_type": "code",
   "execution_count": 62,
   "metadata": {
    "collapsed": false
   },
   "outputs": [
    {
     "name": "stdout",
     "output_type": "stream",
     "text": [
      "Cohen's d: 2.94091822396\n"
     ]
    }
   ],
   "source": [
    "# Behavioral Effect Size from Evans, Horowitz, & Wolfe (2011)\n",
    "\n",
    "\n",
    "# Pre-cue > post-cue d' , pg. 741\n",
    "t_value = 9.30\n",
    "n = 10\n",
    "cohens_d = t_value/np.sqrt(n) # from http://stats.stackexchange.com/questions/201629/cohens-d-for-dependent-sample-t-test\n",
    "\n",
    "print \"Cohen's d:\",cohens_d\n"
   ]
  },
  {
   "cell_type": "code",
   "execution_count": 63,
   "metadata": {
    "collapsed": true
   },
   "outputs": [],
   "source": [
    "effect_size = cohens_d\n",
    "sig_level = .01\n",
    "power = .8\n",
    "test_type = 'paired' #'one.sample', 'two.sample' or 'paired'"
   ]
  },
  {
   "cell_type": "code",
   "execution_count": 64,
   "metadata": {
    "collapsed": false
   },
   "outputs": [
    {
     "name": "stdout",
     "output_type": "stream",
     "text": [
      "try({pwr.t.test(d =2.94091822396, sig.level =0.01,        power =0.8, type = \"paired\")})\n",
      "\n",
      "     Paired t test power calculation \n",
      "\n",
      "              n = 4.616731\n",
      "              d = 2.940918\n",
      "      sig.level = 0.01\n",
      "          power = 0.8\n",
      "    alternative = two.sided\n",
      "\n",
      "NOTE: n is number of *pairs*\n",
      "\n",
      "\n"
     ]
    }
   ],
   "source": [
    "print r('pwr.t.test(d ='+str(effect_size)+', sig.level ='+str(sig_level)+',\\\n",
    "        power ='+str(power)+', type = \"'+test_type+'\")')"
   ]
  },
  {
   "cell_type": "code",
   "execution_count": 35,
   "metadata": {
    "collapsed": false
   },
   "outputs": [],
   "source": [
    "# MEG Category Classification Effect Size from Isik, Meyers, Leibo, & Poggio (2014)\n",
    "\n",
    "# Category classifcation greater than chance (permutation-based), p > 0.005\n",
    "p_val = 0.005\n",
    "n = 8\n",
    "df = n - 1\n",
    "#inverse of two-tailed t-distrubution\n",
    "t_value =  r.get('qt((1-'+str(p_val)+'/2), '+str(df)+')') #from http://stats.stackexchange.com/questions/56182/how-to-back-calculate-change-from-baseline-from-a-p-value-for-a-paired-t-test"
   ]
  },
  {
   "cell_type": "code",
   "execution_count": 36,
   "metadata": {
    "collapsed": false
   },
   "outputs": [
    {
     "data": {
      "text/plain": [
       "4.0293371776425"
      ]
     },
     "execution_count": 36,
     "metadata": {},
     "output_type": "execute_result"
    }
   ],
   "source": [
    "t_value"
   ]
  },
  {
   "cell_type": "code",
   "execution_count": 37,
   "metadata": {
    "collapsed": false
   },
   "outputs": [
    {
     "name": "stdout",
     "output_type": "stream",
     "text": [
      "Cohen's d: 1.424585821\n"
     ]
    }
   ],
   "source": [
    "cohens_d = t_value/np.sqrt(n) #dz: Standardized difference scores\n",
    "\n",
    "print \"Cohen's d:\",cohens_d"
   ]
  },
  {
   "cell_type": "code",
   "execution_count": 38,
   "metadata": {
    "collapsed": true
   },
   "outputs": [],
   "source": [
    "effect_size = cohens_d\n",
    "sig_level = .05\n",
    "power = .8\n",
    "test_type = 'paired' #'one.sample', 'two.sample' or 'paired'"
   ]
  },
  {
   "cell_type": "code",
   "execution_count": 39,
   "metadata": {
    "collapsed": false
   },
   "outputs": [
    {
     "name": "stdout",
     "output_type": "stream",
     "text": [
      "try({pwr.t.test(d =1.424585821, sig.level =0.05,        power =0.8, type = \"paired\")})\n",
      "\n",
      "     Paired t test power calculation \n",
      "\n",
      "              n = 6.05165\n",
      "              d = 1.424586\n",
      "      sig.level = 0.05\n",
      "          power = 0.8\n",
      "    alternative = two.sided\n",
      "\n",
      "NOTE: n is number of *pairs*\n",
      "\n",
      "\n"
     ]
    }
   ],
   "source": [
    "print r('pwr.t.test(d ='+str(effect_size)+', sig.level ='+str(sig_level)+',\\\n",
    "        power ='+str(power)+', type = \"'+test_type+'\")')"
   ]
  },
  {
   "cell_type": "code",
   "execution_count": 88,
   "metadata": {
    "collapsed": false
   },
   "outputs": [],
   "source": [
    "mean_diff = 90\n",
    "se = mean_diff/t_value\n",
    "s = se*np.sqrt(n)"
   ]
  },
  {
   "cell_type": "code",
   "execution_count": 89,
   "metadata": {
    "collapsed": false
   },
   "outputs": [
    {
     "data": {
      "text/plain": [
       "63.176257037911917"
      ]
     },
     "execution_count": 89,
     "metadata": {},
     "output_type": "execute_result"
    }
   ],
   "source": [
    "s"
   ]
  },
  {
   "cell_type": "code",
   "execution_count": 90,
   "metadata": {
    "collapsed": true
   },
   "outputs": [],
   "source": [
    "cohens_d_orig = mean_diff/s"
   ]
  },
  {
   "cell_type": "code",
   "execution_count": 91,
   "metadata": {
    "collapsed": false
   },
   "outputs": [
    {
     "data": {
      "text/plain": [
       "1.4245858209990381"
      ]
     },
     "execution_count": 91,
     "metadata": {},
     "output_type": "execute_result"
    }
   ],
   "source": [
    "cohens_d_orig"
   ]
  },
  {
   "cell_type": "code",
   "execution_count": 92,
   "metadata": {
    "collapsed": true
   },
   "outputs": [],
   "source": [
    "effect_size = cohens_d_orig\n",
    "sig_level = .05\n",
    "power = .8\n",
    "test_type = 'paired' #'one.sample', 'two.sample' or 'paired'"
   ]
  },
  {
   "cell_type": "code",
   "execution_count": 76,
   "metadata": {
    "collapsed": false
   },
   "outputs": [
    {
     "name": "stdout",
     "output_type": "stream",
     "text": [
      "try({pwr.t.test(d =1.424585821, sig.level =0.05,        power =0.8, type = \"paired\")})\n",
      "\n",
      "     Paired t test power calculation \n",
      "\n",
      "              n = 6.05165\n",
      "              d = 1.424586\n",
      "      sig.level = 0.05\n",
      "          power = 0.8\n",
      "    alternative = two.sided\n",
      "\n",
      "NOTE: n is number of *pairs*\n",
      "\n",
      "\n"
     ]
    }
   ],
   "source": [
    "print r('pwr.t.test(d ='+str(effect_size)+', sig.level ='+str(sig_level)+',\\\n",
    "        power ='+str(power)+', type = \"'+test_type+'\")')"
   ]
  },
  {
   "cell_type": "code",
   "execution_count": 96,
   "metadata": {
    "collapsed": false
   },
   "outputs": [
    {
     "name": "stdout",
     "output_type": "stream",
     "text": [
      "Cohen's d: 1.00429079454\n"
     ]
    }
   ],
   "source": [
    "# MEG Transformation Effect Size from Ward, Isik, Chun (submitted)\n",
    "\n",
    "\n",
    "# True Change > Wrong Change Correlation , pg. 741\n",
    "t_value = 2.46 #lowest t-value, also corresponds to lower d value, 1.004\n",
    "n = 6\n",
    "cohens_d = t_value/np.sqrt(n) # from http://stats.stackexchange.com/questions/201629/cohens-d-for-dependent-sample-t-test\n",
    "\n",
    "print \"Cohen's d:\",cohens_d\n",
    "\n"
   ]
  },
  {
   "cell_type": "code",
   "execution_count": 97,
   "metadata": {
    "collapsed": true
   },
   "outputs": [],
   "source": [
    "effect_size = cohens_d\n",
    "sig_level = .05\n",
    "power = .8\n",
    "test_type = 'paired' #'one.sample', 'two.sample' or 'paired'"
   ]
  },
  {
   "cell_type": "code",
   "execution_count": 98,
   "metadata": {
    "collapsed": false
   },
   "outputs": [
    {
     "name": "stdout",
     "output_type": "stream",
     "text": [
      "try({pwr.t.test(d =1.00429079454, sig.level =0.05,        power =0.8, type = \"paired\")})\n",
      "\n",
      "     Paired t test power calculation \n",
      "\n",
      "              n = 9.871995\n",
      "              d = 1.004291\n",
      "      sig.level = 0.05\n",
      "          power = 0.8\n",
      "    alternative = two.sided\n",
      "\n",
      "NOTE: n is number of *pairs*\n",
      "\n",
      "\n"
     ]
    }
   ],
   "source": [
    "print r('pwr.t.test(d ='+str(effect_size)+', sig.level ='+str(sig_level)+',\\\n",
    "        power ='+str(power)+', type = \"'+test_type+'\")')"
   ]
  },
  {
   "cell_type": "code",
   "execution_count": 40,
   "metadata": {
    "collapsed": false
   },
   "outputs": [
    {
     "name": "stdout",
     "output_type": "stream",
     "text": [
      "Cohen's d: 2.48768394869\n"
     ]
    }
   ],
   "source": [
    "# MEG Category Classification Effect Size from Kaiser, Azzalini, and Peelen (2016)\n",
    "\n",
    "\n",
    "# Shape decoding above chance , pg. 2248\n",
    "t_value = 11.4\n",
    "n = 21\n",
    "cohens_d = t_value/np.sqrt(n) # from http://stats.stackexchange.com/questions/201629/cohens-d-for-dependent-sample-t-test\n",
    "\n",
    "print \"Cohen's d:\",cohens_d"
   ]
  },
  {
   "cell_type": "code",
   "execution_count": 41,
   "metadata": {
    "collapsed": true
   },
   "outputs": [],
   "source": [
    "effect_size = cohens_d\n",
    "sig_level = .05\n",
    "power = .8\n",
    "test_type = 'one.sample' #'one.sample', 'two.sample' or 'paired'"
   ]
  },
  {
   "cell_type": "code",
   "execution_count": 42,
   "metadata": {
    "collapsed": false
   },
   "outputs": [
    {
     "name": "stdout",
     "output_type": "stream",
     "text": [
      "try({pwr.t.test(d =2.48768394869, sig.level =0.05,        power =0.8, type = \"one.sample\")})\n",
      "\n",
      "     One-sample t test power calculation \n",
      "\n",
      "              n = 3.545806\n",
      "              d = 2.487684\n",
      "      sig.level = 0.05\n",
      "          power = 0.8\n",
      "    alternative = two.sided\n",
      "\n",
      "\n"
     ]
    }
   ],
   "source": [
    "print r('pwr.t.test(d ='+str(effect_size)+', sig.level ='+str(sig_level)+',\\\n",
    "        power ='+str(power)+', type = \"'+test_type+'\")')"
   ]
  },
  {
   "cell_type": "code",
   "execution_count": 52,
   "metadata": {
    "collapsed": false
   },
   "outputs": [
    {
     "name": "stdout",
     "output_type": "stream",
     "text": [
      "Cohen's d: 1.50570344263\n"
     ]
    }
   ],
   "source": [
    "# MEG Category Classification Effect Size from Kaiser, Azzalini, and Peelen (2016)\n",
    "\n",
    "\n",
    "# Shape decoding above chance , pg. 2248\n",
    "t_value = 6.9\n",
    "n = 21\n",
    "cohens_d = t_value/np.sqrt(n) # from http://stats.stackexchange.com/questions/201629/cohens-d-for-dependent-sample-t-test\n",
    "\n",
    "print \"Cohen's d:\",cohens_d"
   ]
  },
  {
   "cell_type": "code",
   "execution_count": 53,
   "metadata": {
    "collapsed": true
   },
   "outputs": [],
   "source": [
    "effect_size = cohens_d\n",
    "sig_level = .01\n",
    "power = .8\n",
    "test_type = 'one.sample' #'one.sample', 'two.sample' or 'paired'"
   ]
  },
  {
   "cell_type": "code",
   "execution_count": 54,
   "metadata": {
    "collapsed": false
   },
   "outputs": [
    {
     "name": "stdout",
     "output_type": "stream",
     "text": [
      "try({pwr.t.test(d =1.50570344263, sig.level =0.01,        power =0.8, type = \"one.sample\")})\n",
      "\n",
      "     One-sample t test power calculation \n",
      "\n",
      "              n = 8.568499\n",
      "              d = 1.505703\n",
      "      sig.level = 0.01\n",
      "          power = 0.8\n",
      "    alternative = two.sided\n",
      "\n",
      "\n"
     ]
    }
   ],
   "source": [
    "print r('pwr.t.test(d ='+str(effect_size)+', sig.level ='+str(sig_level)+',\\\n",
    "        power ='+str(power)+', type = \"'+test_type+'\")')"
   ]
  },
  {
   "cell_type": "code",
   "execution_count": 46,
   "metadata": {
    "collapsed": true
   },
   "outputs": [],
   "source": [
    "# MEG Target Classification Effect Size from King, Pescetelli, Dehaene (2016)\n",
    "\n",
    "# Target classifcation greater than chance, p < 0.001\n",
    "p_val = 0.001\n",
    "n = 20\n",
    "df = n - 1\n",
    "#inverse of two-tailed t-distrubution\n",
    "t_value =  r.get('qt((1-'+str(p_val)+'/2), '+str(df)+')') #from http://stats.stackexchange.com/questions/56182/how-to-back-calculate-change-from-baseline-from-a-p-value-for-a-paired-t-test"
   ]
  },
  {
   "cell_type": "code",
   "execution_count": 47,
   "metadata": {
    "collapsed": false
   },
   "outputs": [
    {
     "name": "stdout",
     "output_type": "stream",
     "text": [
      "Cohen's d: 0.868355947062\n"
     ]
    }
   ],
   "source": [
    "cohens_d = t_value/np.sqrt(n) #dz: Standardized difference scores\n",
    "\n",
    "print \"Cohen's d:\",cohens_d"
   ]
  },
  {
   "cell_type": "code",
   "execution_count": 50,
   "metadata": {
    "collapsed": true
   },
   "outputs": [],
   "source": [
    "effect_size = cohens_d\n",
    "sig_level = .01\n",
    "power = .8\n",
    "test_type = 'one.sample' #'one.sample', 'two.sample' or 'paired'"
   ]
  },
  {
   "cell_type": "code",
   "execution_count": 51,
   "metadata": {
    "collapsed": false
   },
   "outputs": [
    {
     "name": "stdout",
     "output_type": "stream",
     "text": [
      "try({pwr.t.test(d =0.868355947062, sig.level =0.01,        power =0.8, type = \"one.sample\")})\n",
      "\n",
      "     One-sample t test power calculation \n",
      "\n",
      "              n = 18.87825\n",
      "              d = 0.8683559\n",
      "      sig.level = 0.01\n",
      "          power = 0.8\n",
      "    alternative = two.sided\n",
      "\n",
      "\n"
     ]
    }
   ],
   "source": [
    "print r('pwr.t.test(d ='+str(effect_size)+', sig.level ='+str(sig_level)+',\\\n",
    "        power ='+str(power)+', type = \"'+test_type+'\")')"
   ]
  },
  {
   "cell_type": "code",
   "execution_count": 77,
   "metadata": {
    "collapsed": false
   },
   "outputs": [
    {
     "name": "stdout",
     "output_type": "stream",
     "text": [
      "Cohen's d: 1.15087478292\n"
     ]
    }
   ],
   "source": [
    "# MEG Category Classification Effect Size from Kaiser, Oosterhof, and Peelen (2016)\n",
    "\n",
    "\n",
    "# Item decoding above chance , pg. 10525\n",
    "t_value = 7.89\n",
    "n = 47\n",
    "cohens_d = t_value/np.sqrt(n) # from http://stats.stackexchange.com/questions/201629/cohens-d-for-dependent-sample-t-test\n",
    "\n",
    "print \"Cohen's d:\",cohens_d"
   ]
  },
  {
   "cell_type": "code",
   "execution_count": 78,
   "metadata": {
    "collapsed": true
   },
   "outputs": [],
   "source": [
    "effect_size = cohens_d\n",
    "sig_level = .01\n",
    "power = .8\n",
    "test_type = 'one.sample' #'one.sample', 'two.sample' or 'paired'"
   ]
  },
  {
   "cell_type": "code",
   "execution_count": 79,
   "metadata": {
    "collapsed": false
   },
   "outputs": [
    {
     "name": "stdout",
     "output_type": "stream",
     "text": [
      "try({pwr.t.test(d =1.15087478292, sig.level =0.01,        power =0.8, type = \"one.sample\")})\n",
      "\n",
      "     One-sample t test power calculation \n",
      "\n",
      "              n = 12.22932\n",
      "              d = 1.150875\n",
      "      sig.level = 0.01\n",
      "          power = 0.8\n",
      "    alternative = two.sided\n",
      "\n",
      "\n"
     ]
    }
   ],
   "source": [
    "print r('pwr.t.test(d ='+str(effect_size)+', sig.level ='+str(sig_level)+',\\\n",
    "        power ='+str(power)+', type = \"'+test_type+'\")')"
   ]
  },
  {
   "cell_type": "code",
   "execution_count": 101,
   "metadata": {
    "collapsed": true
   },
   "outputs": [],
   "source": [
    "#Don't know the effect size? Just say what you're interested in!\n",
    "# Effects of at least .6, p<0.05 detected 80% power \n",
    "\n",
    "effect_size = .6\n",
    "sig_level = .05\n",
    "power = .8\n",
    "test_type = 'paired' #'one.sample', 'two.sample' or 'paired'"
   ]
  },
  {
   "cell_type": "code",
   "execution_count": 102,
   "metadata": {
    "collapsed": false
   },
   "outputs": [
    {
     "data": {
      "text/plain": [
       "5.6381119519728164"
      ]
     },
     "execution_count": 102,
     "metadata": {},
     "output_type": "execute_result"
    }
   ],
   "source": [
    "t_value = np.sqrt(24)*cohens_d\n",
    "t_value"
   ]
  },
  {
   "cell_type": "code",
   "execution_count": 103,
   "metadata": {
    "collapsed": false
   },
   "outputs": [
    {
     "name": "stdout",
     "output_type": "stream",
     "text": [
      "try({pwr.t.test(d =0.6, sig.level =0.05,        power =0.8, type = \"paired\")})\n",
      "\n",
      "     Paired t test power calculation \n",
      "\n",
      "              n = 23.79451\n",
      "              d = 0.6\n",
      "      sig.level = 0.05\n",
      "          power = 0.8\n",
      "    alternative = two.sided\n",
      "\n",
      "NOTE: n is number of *pairs*\n",
      "\n",
      "\n"
     ]
    }
   ],
   "source": [
    "print r('pwr.t.test(d ='+str(effect_size)+', sig.level ='+str(sig_level)+',\\\n",
    "        power ='+str(power)+', type = \"'+test_type+'\")')"
   ]
  },
  {
   "cell_type": "code",
   "execution_count": null,
   "metadata": {
    "collapsed": true
   },
   "outputs": [],
   "source": []
  }
 ],
 "metadata": {
  "anaconda-cloud": {},
  "kernelspec": {
   "display_name": "Python 2",
   "language": "python",
   "name": "python2"
  },
  "language_info": {
   "codemirror_mode": {
    "name": "ipython",
    "version": 2
   },
   "file_extension": ".py",
   "mimetype": "text/x-python",
   "name": "python",
   "nbconvert_exporter": "python",
   "pygments_lexer": "ipython2",
   "version": "2.7.13"
  }
 },
 "nbformat": 4,
 "nbformat_minor": 1
}
