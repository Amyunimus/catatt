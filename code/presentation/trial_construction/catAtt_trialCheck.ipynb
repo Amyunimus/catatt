{
 "cells": [
  {
   "cell_type": "code",
   "execution_count": 8,
   "metadata": {
    "collapsed": true
   },
   "outputs": [],
   "source": [
    "import pickle"
   ]
  },
  {
   "cell_type": "code",
   "execution_count": 12,
   "metadata": {
    "collapsed": true
   },
   "outputs": [],
   "source": [
    "with open('all_trials.pkl', 'rb') as handle:\n",
    "    all_trials = pickle.load(handle)"
   ]
  },
  {
   "cell_type": "code",
   "execution_count": 13,
   "metadata": {
    "collapsed": false
   },
   "outputs": [
    {
     "name": "stdout",
     "output_type": "stream",
     "text": [
      "total trial: 528\n"
     ]
    }
   ],
   "source": [
    "print \"total trial:\",len(all_trials)"
   ]
  },
  {
   "cell_type": "code",
   "execution_count": 14,
   "metadata": {
    "collapsed": false
   },
   "outputs": [
    {
     "name": "stdout",
     "output_type": "stream",
     "text": [
      "postcue 192\n",
      "doublecue 48\n",
      "precue 192\n",
      "nocue 96\n"
     ]
    }
   ],
   "source": [
    "for cue_type in set([item['cue_type'] for item in all_trials]):\n",
    "    print cue_type, len([x for x in all_trials if x['cue_type']==cue_type])"
   ]
  },
  {
   "cell_type": "code",
   "execution_count": 15,
   "metadata": {
    "collapsed": false
   },
   "outputs": [
    {
     "name": "stdout",
     "output_type": "stream",
     "text": [
      "postcue False 0\n",
      "postcue (False, False) 0\n",
      "postcue object 96\n",
      "postcue (False, 'scene') 0\n",
      "postcue scene 96\n",
      "postcue ('object', False) 0\n",
      "postcue (False, 'object') 0\n",
      "postcue ('scene', 'object') 0\n",
      "postcue ('scene', False) 0\n",
      "postcue ('object', 'scene') 0\n",
      "doublecue False 0\n",
      "doublecue (False, False) 12\n",
      "doublecue object 0\n",
      "doublecue (False, 'scene') 6\n",
      "doublecue scene 0\n",
      "doublecue ('object', False) 6\n",
      "doublecue (False, 'object') 6\n",
      "doublecue ('scene', 'object') 6\n",
      "doublecue ('scene', False) 6\n",
      "doublecue ('object', 'scene') 6\n",
      "precue False 0\n",
      "precue (False, False) 0\n",
      "precue object 96\n",
      "precue (False, 'scene') 0\n",
      "precue scene 96\n",
      "precue ('object', False) 0\n",
      "precue (False, 'object') 0\n",
      "precue ('scene', 'object') 0\n",
      "precue ('scene', False) 0\n",
      "precue ('object', 'scene') 0\n",
      "nocue False 96\n",
      "nocue (False, False) 0\n",
      "nocue object 0\n",
      "nocue (False, 'scene') 0\n",
      "nocue scene 0\n",
      "nocue ('object', False) 0\n",
      "nocue (False, 'object') 0\n",
      "nocue ('scene', 'object') 0\n",
      "nocue ('scene', False) 0\n",
      "nocue ('object', 'scene') 0\n"
     ]
    }
   ],
   "source": [
    "for cue_type in set([item['cue_type'] for item in all_trials]):\n",
    "    for target_category in set([item['target_category'] for item in all_trials]):\n",
    "        tmp = [x for x in all_trials if x['cue_type']==cue_type and x['target_category'] == target_category]\n",
    "        print cue_type, target_category, len(tmp)\n",
    "        "
   ]
  },
  {
   "cell_type": "code",
   "execution_count": null,
   "metadata": {
    "collapsed": true
   },
   "outputs": [],
   "source": []
  }
 ],
 "metadata": {
  "kernelspec": {
   "display_name": "Python 2",
   "language": "python",
   "name": "python2"
  },
  "language_info": {
   "codemirror_mode": {
    "name": "ipython",
    "version": 2
   },
   "file_extension": ".py",
   "mimetype": "text/x-python",
   "name": "python",
   "nbconvert_exporter": "python",
   "pygments_lexer": "ipython2",
   "version": "2.7.13"
  }
 },
 "nbformat": 4,
 "nbformat_minor": 2
}
