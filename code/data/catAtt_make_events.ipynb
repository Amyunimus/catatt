{
 "cells": [
  {
   "cell_type": "code",
   "execution_count": 1,
   "metadata": {
    "collapsed": true
   },
   "outputs": [],
   "source": [
    "import os\n",
    "import pandas as pd"
   ]
  },
  {
   "cell_type": "code",
   "execution_count": 2,
   "metadata": {
    "collapsed": false
   },
   "outputs": [],
   "source": [
    "data_path = 'data/'\n",
    "infiles = [item for item in os.listdir(data_path) if item.endswith('txt')]"
   ]
  },
  {
   "cell_type": "code",
   "execution_count": 3,
   "metadata": {
    "collapsed": true
   },
   "outputs": [],
   "source": [
    "columns = ['trial_num','cue_type','target_identity','target_category','choices','target_presence',\n",
    "           'response','response_correct','response_time','total_trial_time',\n",
    "           'precue_value','IDUNNOpre1','IDUNNOpre2','precue_time','precue_time_actual','precue_position',\n",
    "           'picture1_value','IDUNNO1','picture1_stim','picture1_time','picture1_time_actual', 'picture1_posititon',\n",
    "           'picture2_value','IDUNNO2','picture2_stim','picture2_time','picture2_time_actual', 'picture2_posititon',\n",
    "           'picture3_value','IDUNNO3','picture3_stim','picture3_time','picture3_time_actual', 'picture3_posititon',\n",
    "           'picture4_value','IDUNNO4','picture4_stim','picture4_time','picture4_time_actual', 'picture4_posititon',\n",
    "           'picture5_value','IDUNNO5','picture5_stim','picture5_time','picture5_time_actual', 'picture5_posititon',\n",
    "           'picture6_value','IDUNNO6','picture6_stim','picture6_time','picture6_time_actual', 'picture6_posititon',\n",
    "            'postcue_value','IDUNNOpost1','IDUNNOpost2','postcue_time','postcue_time_actual','postcue_position']"
   ]
  },
  {
   "cell_type": "code",
   "execution_count": 4,
   "metadata": {
    "collapsed": true
   },
   "outputs": [],
   "source": [
    "df_all = []\n",
    "for infile in infiles:\n",
    "    subject =  infile[:4]\n",
    "    if subject not in  ['s002','s008']: #s002 is ok, just not the same format\n",
    "        df = pd.read_csv(data_path+infile, sep=\"\\t\", header = None)\n",
    "        df.columns = columns\n",
    "        df['subject'] = subject\n",
    "        df_all.append(df)\n",
    "    elif subject == 's002':\n",
    "        df2 = pd.read_csv(data_path+infile, sep=\"\\t\")\n",
    "        df2['subject'] = subject\n",
    "        \n",
    "df2.columns = columns+['subject']\n",
    "df_all.append(df2)\n"
   ]
  },
  {
   "cell_type": "code",
   "execution_count": 5,
   "metadata": {
    "collapsed": true
   },
   "outputs": [],
   "source": [
    "result = pd.concat(df_all)"
   ]
  },
  {
   "cell_type": "code",
   "execution_count": 6,
   "metadata": {
    "collapsed": true
   },
   "outputs": [],
   "source": [
    "result = result.reset_index(drop=True)"
   ]
  },
  {
   "cell_type": "code",
   "execution_count": 7,
   "metadata": {
    "collapsed": false
   },
   "outputs": [
    {
     "data": {
      "text/html": [
       "<div>\n",
       "<table border=\"1\" class=\"dataframe\">\n",
       "  <thead>\n",
       "    <tr style=\"text-align: right;\">\n",
       "      <th></th>\n",
       "      <th>trial_num</th>\n",
       "      <th>cue_type</th>\n",
       "      <th>target_identity</th>\n",
       "      <th>target_category</th>\n",
       "      <th>choices</th>\n",
       "      <th>target_presence</th>\n",
       "      <th>response</th>\n",
       "      <th>response_correct</th>\n",
       "      <th>response_time</th>\n",
       "      <th>total_trial_time</th>\n",
       "      <th>...</th>\n",
       "      <th>picture6_time</th>\n",
       "      <th>picture6_time_actual</th>\n",
       "      <th>picture6_posititon</th>\n",
       "      <th>postcue_value</th>\n",
       "      <th>IDUNNOpost1</th>\n",
       "      <th>IDUNNOpost2</th>\n",
       "      <th>postcue_time</th>\n",
       "      <th>postcue_time_actual</th>\n",
       "      <th>postcue_position</th>\n",
       "      <th>subject</th>\n",
       "    </tr>\n",
       "  </thead>\n",
       "  <tbody>\n",
       "    <tr>\n",
       "      <th>0</th>\n",
       "      <td>1</td>\n",
       "      <td>precue</td>\n",
       "      <td>chair</td>\n",
       "      <td>object</td>\n",
       "      <td>['a', 'b']</td>\n",
       "      <td>absent</td>\n",
       "      <td>NaN</td>\n",
       "      <td>0</td>\n",
       "      <td>NaN</td>\n",
       "      <td>6.583300</td>\n",
       "      <td>...</td>\n",
       "      <td>0.1</td>\n",
       "      <td>0.116641</td>\n",
       "      <td>[(0, 0)]</td>\n",
       "      <td>[False]</td>\n",
       "      <td>['NaN']</td>\n",
       "      <td>[False]</td>\n",
       "      <td>0.9</td>\n",
       "      <td>0.916643</td>\n",
       "      <td>[(0, 0)]</td>\n",
       "      <td>s003</td>\n",
       "    </tr>\n",
       "    <tr>\n",
       "      <th>1</th>\n",
       "      <td>2</td>\n",
       "      <td>nocue</td>\n",
       "      <td>False</td>\n",
       "      <td>False</td>\n",
       "      <td>['a', 'b']</td>\n",
       "      <td>absent</td>\n",
       "      <td>present</td>\n",
       "      <td>0</td>\n",
       "      <td>1.572390</td>\n",
       "      <td>6.563691</td>\n",
       "      <td>...</td>\n",
       "      <td>0.1</td>\n",
       "      <td>0.116594</td>\n",
       "      <td>[(0, 0)]</td>\n",
       "      <td>[False]</td>\n",
       "      <td>['present']</td>\n",
       "      <td>[False]</td>\n",
       "      <td>0.9</td>\n",
       "      <td>0.900119</td>\n",
       "      <td>[(0, 0)]</td>\n",
       "      <td>s003</td>\n",
       "    </tr>\n",
       "    <tr>\n",
       "      <th>2</th>\n",
       "      <td>3</td>\n",
       "      <td>postcue</td>\n",
       "      <td>car</td>\n",
       "      <td>object</td>\n",
       "      <td>['a', 'b']</td>\n",
       "      <td>absent</td>\n",
       "      <td>present</td>\n",
       "      <td>0</td>\n",
       "      <td>0.617584</td>\n",
       "      <td>6.565073</td>\n",
       "      <td>...</td>\n",
       "      <td>0.1</td>\n",
       "      <td>0.100045</td>\n",
       "      <td>[(0, 0)]</td>\n",
       "      <td>['car']</td>\n",
       "      <td>['present']</td>\n",
       "      <td>['car']</td>\n",
       "      <td>0.9</td>\n",
       "      <td>0.900039</td>\n",
       "      <td>[(0, 0)]</td>\n",
       "      <td>s003</td>\n",
       "    </tr>\n",
       "    <tr>\n",
       "      <th>3</th>\n",
       "      <td>4</td>\n",
       "      <td>postcue</td>\n",
       "      <td>desert</td>\n",
       "      <td>scene</td>\n",
       "      <td>['a', 'b']</td>\n",
       "      <td>absent</td>\n",
       "      <td>present</td>\n",
       "      <td>0</td>\n",
       "      <td>0.083813</td>\n",
       "      <td>6.531688</td>\n",
       "      <td>...</td>\n",
       "      <td>0.1</td>\n",
       "      <td>0.100039</td>\n",
       "      <td>[(0, 0)]</td>\n",
       "      <td>['desert']</td>\n",
       "      <td>['present']</td>\n",
       "      <td>['desert']</td>\n",
       "      <td>0.9</td>\n",
       "      <td>0.900118</td>\n",
       "      <td>[(0, 0)]</td>\n",
       "      <td>s003</td>\n",
       "    </tr>\n",
       "    <tr>\n",
       "      <th>4</th>\n",
       "      <td>5</td>\n",
       "      <td>precue</td>\n",
       "      <td>desert</td>\n",
       "      <td>scene</td>\n",
       "      <td>['a', 'b']</td>\n",
       "      <td>absent</td>\n",
       "      <td>absent</td>\n",
       "      <td>1</td>\n",
       "      <td>1.260341</td>\n",
       "      <td>6.581609</td>\n",
       "      <td>...</td>\n",
       "      <td>0.1</td>\n",
       "      <td>0.116661</td>\n",
       "      <td>[(0, 0)]</td>\n",
       "      <td>[False]</td>\n",
       "      <td>['absent']</td>\n",
       "      <td>[False]</td>\n",
       "      <td>0.9</td>\n",
       "      <td>0.916647</td>\n",
       "      <td>[(0, 0)]</td>\n",
       "      <td>s003</td>\n",
       "    </tr>\n",
       "    <tr>\n",
       "      <th>5</th>\n",
       "      <td>6</td>\n",
       "      <td>postcue</td>\n",
       "      <td>chair</td>\n",
       "      <td>object</td>\n",
       "      <td>['a', 'b']</td>\n",
       "      <td>present</td>\n",
       "      <td>absent</td>\n",
       "      <td>0</td>\n",
       "      <td>0.874329</td>\n",
       "      <td>6.581602</td>\n",
       "      <td>...</td>\n",
       "      <td>0.1</td>\n",
       "      <td>0.116666</td>\n",
       "      <td>[(0, 0)]</td>\n",
       "      <td>['chair']</td>\n",
       "      <td>['absent']</td>\n",
       "      <td>['chair']</td>\n",
       "      <td>0.9</td>\n",
       "      <td>0.916640</td>\n",
       "      <td>[(0, 0)]</td>\n",
       "      <td>s003</td>\n",
       "    </tr>\n",
       "    <tr>\n",
       "      <th>6</th>\n",
       "      <td>7</td>\n",
       "      <td>postcue</td>\n",
       "      <td>bathroom</td>\n",
       "      <td>scene</td>\n",
       "      <td>['a', 'b']</td>\n",
       "      <td>present</td>\n",
       "      <td>absent</td>\n",
       "      <td>0</td>\n",
       "      <td>1.025778</td>\n",
       "      <td>6.581762</td>\n",
       "      <td>...</td>\n",
       "      <td>0.1</td>\n",
       "      <td>0.116651</td>\n",
       "      <td>[(0, 0)]</td>\n",
       "      <td>['bathroom']</td>\n",
       "      <td>['absent']</td>\n",
       "      <td>['bathroom']</td>\n",
       "      <td>0.9</td>\n",
       "      <td>0.916651</td>\n",
       "      <td>[(0, 0)]</td>\n",
       "      <td>s003</td>\n",
       "    </tr>\n",
       "    <tr>\n",
       "      <th>7</th>\n",
       "      <td>8</td>\n",
       "      <td>precue</td>\n",
       "      <td>flower</td>\n",
       "      <td>object</td>\n",
       "      <td>['a', 'b']</td>\n",
       "      <td>absent</td>\n",
       "      <td>absent</td>\n",
       "      <td>1</td>\n",
       "      <td>0.383193</td>\n",
       "      <td>6.581737</td>\n",
       "      <td>...</td>\n",
       "      <td>0.1</td>\n",
       "      <td>0.116658</td>\n",
       "      <td>[(0, 0)]</td>\n",
       "      <td>[False]</td>\n",
       "      <td>['absent']</td>\n",
       "      <td>[False]</td>\n",
       "      <td>0.9</td>\n",
       "      <td>0.916638</td>\n",
       "      <td>[(0, 0)]</td>\n",
       "      <td>s003</td>\n",
       "    </tr>\n",
       "    <tr>\n",
       "      <th>8</th>\n",
       "      <td>9</td>\n",
       "      <td>postcue</td>\n",
       "      <td>bathroom</td>\n",
       "      <td>scene</td>\n",
       "      <td>['a', 'b']</td>\n",
       "      <td>absent</td>\n",
       "      <td>absent</td>\n",
       "      <td>1</td>\n",
       "      <td>0.363897</td>\n",
       "      <td>6.548321</td>\n",
       "      <td>...</td>\n",
       "      <td>0.1</td>\n",
       "      <td>0.100003</td>\n",
       "      <td>[(0, 0)]</td>\n",
       "      <td>['bathroom']</td>\n",
       "      <td>['absent']</td>\n",
       "      <td>['bathroom']</td>\n",
       "      <td>0.9</td>\n",
       "      <td>0.916638</td>\n",
       "      <td>[(0, 0)]</td>\n",
       "      <td>s003</td>\n",
       "    </tr>\n",
       "    <tr>\n",
       "      <th>9</th>\n",
       "      <td>10</td>\n",
       "      <td>precue</td>\n",
       "      <td>flower</td>\n",
       "      <td>object</td>\n",
       "      <td>['a', 'b']</td>\n",
       "      <td>absent</td>\n",
       "      <td>absent</td>\n",
       "      <td>1</td>\n",
       "      <td>0.327270</td>\n",
       "      <td>6.581851</td>\n",
       "      <td>...</td>\n",
       "      <td>0.1</td>\n",
       "      <td>0.116645</td>\n",
       "      <td>[(0, 0)]</td>\n",
       "      <td>[False]</td>\n",
       "      <td>['absent']</td>\n",
       "      <td>[False]</td>\n",
       "      <td>0.9</td>\n",
       "      <td>0.916632</td>\n",
       "      <td>[(0, 0)]</td>\n",
       "      <td>s003</td>\n",
       "    </tr>\n",
       "  </tbody>\n",
       "</table>\n",
       "<p>10 rows × 59 columns</p>\n",
       "</div>"
      ],
      "text/plain": [
       "   trial_num cue_type target_identity target_category     choices  \\\n",
       "0          1   precue           chair          object  ['a', 'b']   \n",
       "1          2    nocue           False           False  ['a', 'b']   \n",
       "2          3  postcue             car          object  ['a', 'b']   \n",
       "3          4  postcue          desert           scene  ['a', 'b']   \n",
       "4          5   precue          desert           scene  ['a', 'b']   \n",
       "5          6  postcue           chair          object  ['a', 'b']   \n",
       "6          7  postcue        bathroom           scene  ['a', 'b']   \n",
       "7          8   precue          flower          object  ['a', 'b']   \n",
       "8          9  postcue        bathroom           scene  ['a', 'b']   \n",
       "9         10   precue          flower          object  ['a', 'b']   \n",
       "\n",
       "  target_presence response  response_correct  response_time  total_trial_time  \\\n",
       "0          absent      NaN                 0            NaN          6.583300   \n",
       "1          absent  present                 0       1.572390          6.563691   \n",
       "2          absent  present                 0       0.617584          6.565073   \n",
       "3          absent  present                 0       0.083813          6.531688   \n",
       "4          absent   absent                 1       1.260341          6.581609   \n",
       "5         present   absent                 0       0.874329          6.581602   \n",
       "6         present   absent                 0       1.025778          6.581762   \n",
       "7          absent   absent                 1       0.383193          6.581737   \n",
       "8          absent   absent                 1       0.363897          6.548321   \n",
       "9          absent   absent                 1       0.327270          6.581851   \n",
       "\n",
       "    ...    picture6_time picture6_time_actual picture6_posititon  \\\n",
       "0   ...              0.1             0.116641           [(0, 0)]   \n",
       "1   ...              0.1             0.116594           [(0, 0)]   \n",
       "2   ...              0.1             0.100045           [(0, 0)]   \n",
       "3   ...              0.1             0.100039           [(0, 0)]   \n",
       "4   ...              0.1             0.116661           [(0, 0)]   \n",
       "5   ...              0.1             0.116666           [(0, 0)]   \n",
       "6   ...              0.1             0.116651           [(0, 0)]   \n",
       "7   ...              0.1             0.116658           [(0, 0)]   \n",
       "8   ...              0.1             0.100003           [(0, 0)]   \n",
       "9   ...              0.1             0.116645           [(0, 0)]   \n",
       "\n",
       "   postcue_value  IDUNNOpost1   IDUNNOpost2 postcue_time postcue_time_actual  \\\n",
       "0        [False]      ['NaN']       [False]          0.9            0.916643   \n",
       "1        [False]  ['present']       [False]          0.9            0.900119   \n",
       "2        ['car']  ['present']       ['car']          0.9            0.900039   \n",
       "3     ['desert']  ['present']    ['desert']          0.9            0.900118   \n",
       "4        [False]   ['absent']       [False]          0.9            0.916647   \n",
       "5      ['chair']   ['absent']     ['chair']          0.9            0.916640   \n",
       "6   ['bathroom']   ['absent']  ['bathroom']          0.9            0.916651   \n",
       "7        [False]   ['absent']       [False]          0.9            0.916638   \n",
       "8   ['bathroom']   ['absent']  ['bathroom']          0.9            0.916638   \n",
       "9        [False]   ['absent']       [False]          0.9            0.916632   \n",
       "\n",
       "  postcue_position  subject  \n",
       "0         [(0, 0)]     s003  \n",
       "1         [(0, 0)]     s003  \n",
       "2         [(0, 0)]     s003  \n",
       "3         [(0, 0)]     s003  \n",
       "4         [(0, 0)]     s003  \n",
       "5         [(0, 0)]     s003  \n",
       "6         [(0, 0)]     s003  \n",
       "7         [(0, 0)]     s003  \n",
       "8         [(0, 0)]     s003  \n",
       "9         [(0, 0)]     s003  \n",
       "\n",
       "[10 rows x 59 columns]"
      ]
     },
     "execution_count": 7,
     "metadata": {},
     "output_type": "execute_result"
    }
   ],
   "source": [
    "result.head(10)"
   ]
  },
  {
   "cell_type": "code",
   "execution_count": 8,
   "metadata": {
    "collapsed": true
   },
   "outputs": [],
   "source": [
    "stimlist=  result[['subject','picture1_value','picture2_value','picture3_value','picture4_value','picture5_value','picture6_value']]"
   ]
  },
  {
   "cell_type": "code",
   "execution_count": 9,
   "metadata": {
    "collapsed": true
   },
   "outputs": [],
   "source": [
    "stimlist = stimlist.apply(lambda x: x.astype(str).str.replace('[',''))\n",
    "stimlist = stimlist.apply(lambda x: x.astype(str).str.replace(']',''))\n",
    "stimlist = stimlist.apply(lambda x: x.astype(str).str.replace(\"'\",''))"
   ]
  },
  {
   "cell_type": "code",
   "execution_count": 10,
   "metadata": {
    "collapsed": true
   },
   "outputs": [],
   "source": [
    "scene_dict = {'woods':1,'bathroom':2,'desert':3,'coast':4}\n",
    "object_dict = {'flower':1,'car':2,'shoe':3,'chair':4}"
   ]
  },
  {
   "cell_type": "code",
   "execution_count": 11,
   "metadata": {
    "collapsed": true
   },
   "outputs": [],
   "source": [
    "stimlist.replace(r'\\bwoods_\\d*\\b', 'woods', regex=True,inplace=True)\n",
    "stimlist.replace(r'\\bbathroom_\\d*\\b', 'bathroom', regex=True,inplace=True)\n",
    "stimlist.replace(r'\\bdesert_\\d*\\b', 'desert', regex=True,inplace=True)\n",
    "stimlist.replace(r'\\bcoast_\\d*\\b', 'coast', regex=True,inplace=True)\n",
    "\n",
    "stimlist.replace(r'\\bflower_\\d*\\b', 'flower', regex=True,inplace=True)\n",
    "stimlist.replace(r'\\bcar_\\d*\\b', 'car', regex=True,inplace=True)\n",
    "stimlist.replace(r'\\bshoe_\\d*\\b', 'shoe', regex=True,inplace=True)\n",
    "stimlist.replace(r'\\bchair_\\d*\\b', 'chair', regex=True,inplace=True)"
   ]
  },
  {
   "cell_type": "code",
   "execution_count": 12,
   "metadata": {
    "collapsed": true
   },
   "outputs": [],
   "source": [
    "stimlist['target_identity'] = result['target_identity']"
   ]
  },
  {
   "cell_type": "code",
   "execution_count": 13,
   "metadata": {
    "collapsed": true
   },
   "outputs": [],
   "source": [
    "stimlist.replace({'woods':21,'bathroom':22,'desert':23,'coast':24},inplace=True)\n",
    "stimlist.replace({'flower':11,'car':12,'shoe':13,'chair':14},inplace=True)"
   ]
  },
  {
   "cell_type": "code",
   "execution_count": 14,
   "metadata": {
    "collapsed": true
   },
   "outputs": [],
   "source": [
    "stimlist = stimlist.reset_index(drop=True)"
   ]
  },
  {
   "cell_type": "code",
   "execution_count": 15,
   "metadata": {
    "collapsed": true
   },
   "outputs": [],
   "source": [
    "stimlist1 = pd.DataFrame(stimlist)\n",
    "for i,row in stimlist1.iterrows():\n",
    "    for item,key in zip(row.values[:6],stimlist1.columns[:6]):\n",
    "        if item == row.values[7]:\n",
    "            stimlist1.loc[i,key] = int(str(item)+'9')"
   ]
  },
  {
   "cell_type": "code",
   "execution_count": 16,
   "metadata": {
    "collapsed": true
   },
   "outputs": [],
   "source": [
    "stimlist1['cue_type'] = result['cue_type']\n",
    "stimlist1['trial_num'] = result['trial_num']\n",
    "stimlist1['response_correct'] = result['response_correct']\n",
    "stimlist1['target_identity'] = result['target_identity']\n",
    "stimlist1['target_category'] = result['target_category']"
   ]
  },
  {
   "cell_type": "code",
   "execution_count": 17,
   "metadata": {
    "collapsed": true
   },
   "outputs": [],
   "source": [
    "stimlist1['precue'] = 80\n",
    "stimlist1['postcue'] = 180\n",
    "\n",
    "stimlist1.loc[stimlist1.cue_type == 'precue','precue'] = 81\n",
    "stimlist1.loc[stimlist1.cue_type == 'postcue','postcue'] = 181\n",
    "stimlist1.loc[stimlist1.cue_type == 'doublecue','precue'] = 81\n",
    "stimlist1.loc[stimlist1.cue_type == 'doublecue','postcue'] = 181"
   ]
  },
  {
   "cell_type": "code",
   "execution_count": 18,
   "metadata": {
    "collapsed": false
   },
   "outputs": [],
   "source": [
    "stimList_final = stimlist1[['subject','trial_num','response_correct','cue_type','target_identity','target_category',\n",
    "                            'precue','picture1_value','picture2_value','picture3_value','picture4_value',\n",
    "                            'picture5_value','picture6_value','postcue']]"
   ]
  },
  {
   "cell_type": "code",
   "execution_count": 19,
   "metadata": {
    "collapsed": false
   },
   "outputs": [
    {
     "data": {
      "text/html": [
       "<div>\n",
       "<table border=\"1\" class=\"dataframe\">\n",
       "  <thead>\n",
       "    <tr style=\"text-align: right;\">\n",
       "      <th></th>\n",
       "      <th>subject</th>\n",
       "      <th>trial_num</th>\n",
       "      <th>response_correct</th>\n",
       "      <th>cue_type</th>\n",
       "      <th>target_identity</th>\n",
       "      <th>target_category</th>\n",
       "      <th>precue</th>\n",
       "      <th>picture1_value</th>\n",
       "      <th>picture2_value</th>\n",
       "      <th>picture3_value</th>\n",
       "      <th>picture4_value</th>\n",
       "      <th>picture5_value</th>\n",
       "      <th>picture6_value</th>\n",
       "      <th>postcue</th>\n",
       "    </tr>\n",
       "  </thead>\n",
       "  <tbody>\n",
       "    <tr>\n",
       "      <th>0</th>\n",
       "      <td>s003</td>\n",
       "      <td>1</td>\n",
       "      <td>0</td>\n",
       "      <td>precue</td>\n",
       "      <td>chair</td>\n",
       "      <td>object</td>\n",
       "      <td>81</td>\n",
       "      <td>23</td>\n",
       "      <td>22</td>\n",
       "      <td>13</td>\n",
       "      <td>11</td>\n",
       "      <td>24</td>\n",
       "      <td>12</td>\n",
       "      <td>180</td>\n",
       "    </tr>\n",
       "    <tr>\n",
       "      <th>1</th>\n",
       "      <td>s003</td>\n",
       "      <td>2</td>\n",
       "      <td>0</td>\n",
       "      <td>nocue</td>\n",
       "      <td>False</td>\n",
       "      <td>False</td>\n",
       "      <td>80</td>\n",
       "      <td>23</td>\n",
       "      <td>13</td>\n",
       "      <td>12</td>\n",
       "      <td>24</td>\n",
       "      <td>21</td>\n",
       "      <td>11</td>\n",
       "      <td>180</td>\n",
       "    </tr>\n",
       "    <tr>\n",
       "      <th>2</th>\n",
       "      <td>s003</td>\n",
       "      <td>3</td>\n",
       "      <td>0</td>\n",
       "      <td>postcue</td>\n",
       "      <td>car</td>\n",
       "      <td>object</td>\n",
       "      <td>80</td>\n",
       "      <td>13</td>\n",
       "      <td>11</td>\n",
       "      <td>22</td>\n",
       "      <td>14</td>\n",
       "      <td>21</td>\n",
       "      <td>23</td>\n",
       "      <td>181</td>\n",
       "    </tr>\n",
       "    <tr>\n",
       "      <th>3</th>\n",
       "      <td>s003</td>\n",
       "      <td>4</td>\n",
       "      <td>0</td>\n",
       "      <td>postcue</td>\n",
       "      <td>desert</td>\n",
       "      <td>scene</td>\n",
       "      <td>80</td>\n",
       "      <td>14</td>\n",
       "      <td>22</td>\n",
       "      <td>11</td>\n",
       "      <td>12</td>\n",
       "      <td>21</td>\n",
       "      <td>24</td>\n",
       "      <td>181</td>\n",
       "    </tr>\n",
       "    <tr>\n",
       "      <th>4</th>\n",
       "      <td>s003</td>\n",
       "      <td>5</td>\n",
       "      <td>1</td>\n",
       "      <td>precue</td>\n",
       "      <td>desert</td>\n",
       "      <td>scene</td>\n",
       "      <td>81</td>\n",
       "      <td>14</td>\n",
       "      <td>24</td>\n",
       "      <td>13</td>\n",
       "      <td>21</td>\n",
       "      <td>12</td>\n",
       "      <td>22</td>\n",
       "      <td>180</td>\n",
       "    </tr>\n",
       "  </tbody>\n",
       "</table>\n",
       "</div>"
      ],
      "text/plain": [
       "  subject  trial_num  response_correct cue_type target_identity  \\\n",
       "0    s003          1                 0   precue           chair   \n",
       "1    s003          2                 0    nocue           False   \n",
       "2    s003          3                 0  postcue             car   \n",
       "3    s003          4                 0  postcue          desert   \n",
       "4    s003          5                 1   precue          desert   \n",
       "\n",
       "  target_category  precue  picture1_value  picture2_value  picture3_value  \\\n",
       "0          object      81              23              22              13   \n",
       "1           False      80              23              13              12   \n",
       "2          object      80              13              11              22   \n",
       "3           scene      80              14              22              11   \n",
       "4           scene      81              14              24              13   \n",
       "\n",
       "   picture4_value  picture5_value  picture6_value  postcue  \n",
       "0              11              24              12      180  \n",
       "1              24              21              11      180  \n",
       "2              14              21              23      181  \n",
       "3              12              21              24      181  \n",
       "4              21              12              22      180  "
      ]
     },
     "execution_count": 19,
     "metadata": {},
     "output_type": "execute_result"
    }
   ],
   "source": [
    "stimList_final.head()"
   ]
  },
  {
   "cell_type": "code",
   "execution_count": 20,
   "metadata": {
    "collapsed": false
   },
   "outputs": [
    {
     "name": "stderr",
     "output_type": "stream",
     "text": [
      "/opt/python/2.7.8/lib/python2.7/site-packages/pandas/core/indexing.py:288: SettingWithCopyWarning: \n",
      "A value is trying to be set on a copy of a slice from a DataFrame.\n",
      "Try using .loc[row_indexer,col_indexer] = value instead\n",
      "\n",
      "See the caveats in the documentation: http://pandas.pydata.org/pandas-docs/stable/indexing.html#indexing-view-versus-copy\n",
      "  self.obj[key] = _infer_fill_value(value)\n",
      "/opt/python/2.7.8/lib/python2.7/site-packages/pandas/core/indexing.py:465: SettingWithCopyWarning: \n",
      "A value is trying to be set on a copy of a slice from a DataFrame.\n",
      "Try using .loc[row_indexer,col_indexer] = value instead\n",
      "\n",
      "See the caveats in the documentation: http://pandas.pydata.org/pandas-docs/stable/indexing.html#indexing-view-versus-copy\n",
      "  self.obj[item] = s\n"
     ]
    }
   ],
   "source": [
    "stimList_final.loc[stimList_final.cue_type == 'precue','precue_type'] = 'precue'\n",
    "stimList_final.loc[stimList_final.cue_type == 'postcue','precue_type'] = 'nocue'\n",
    "stimList_final.loc[stimList_final.cue_type == 'nocue','precue_type'] = 'nocue'\n",
    "stimList_final.loc[stimList_final.cue_type == 'doublecue','precue_type'] = 'precue'\n",
    "stimList_final.loc[stimList_final.cue_type == 'precue','postcue_type'] = 'nocue'\n",
    "stimList_final.loc[stimList_final.cue_type == 'postcue','postcue_type'] = 'postcue'\n",
    "stimList_final.loc[stimList_final.cue_type == 'nocue','postcue_type'] = 'nocue'\n",
    "stimList_final.loc[stimList_final.cue_type == 'doublecue','postcue_type'] = 'postcue'"
   ]
  },
  {
   "cell_type": "code",
   "execution_count": 21,
   "metadata": {
    "collapsed": true
   },
   "outputs": [],
   "source": [
    "df_list = pd.melt(stimList_final,\n",
    "                  id_vars=['subject','trial_num','response_correct','cue_type',\n",
    "                           'precue_type','postcue_type','target_identity',\n",
    "                           'target_category'], \n",
    "                  value_vars=['precue','picture1_value','picture2_value','picture3_value',\n",
    "                              'picture4_value','picture5_value','picture6_value',\n",
    "                              'postcue'])"
   ]
  },
  {
   "cell_type": "code",
   "execution_count": 22,
   "metadata": {
    "collapsed": false
   },
   "outputs": [
    {
     "name": "stderr",
     "output_type": "stream",
     "text": [
      "/home/predatt/emiwar/local/lib/python2.7/site-packages/IPython/kernel/__main__.py:1: FutureWarning: sort(columns=....) is deprecated, use sort_values(by=.....)\n",
      "  if __name__ == '__main__':\n"
     ]
    }
   ],
   "source": [
    "df_list = df_list.sort(['subject','trial_num']).reset_index(drop=True)"
   ]
  },
  {
   "cell_type": "code",
   "execution_count": 23,
   "metadata": {
    "collapsed": false
   },
   "outputs": [
    {
     "data": {
      "text/html": [
       "<div>\n",
       "<table border=\"1\" class=\"dataframe\">\n",
       "  <thead>\n",
       "    <tr style=\"text-align: right;\">\n",
       "      <th></th>\n",
       "      <th>subject</th>\n",
       "      <th>trial_num</th>\n",
       "      <th>response_correct</th>\n",
       "      <th>cue_type</th>\n",
       "      <th>precue_type</th>\n",
       "      <th>postcue_type</th>\n",
       "      <th>target_identity</th>\n",
       "      <th>target_category</th>\n",
       "      <th>variable</th>\n",
       "      <th>value</th>\n",
       "    </tr>\n",
       "  </thead>\n",
       "  <tbody>\n",
       "    <tr>\n",
       "      <th>0</th>\n",
       "      <td>s002</td>\n",
       "      <td>31</td>\n",
       "      <td>1</td>\n",
       "      <td>precue</td>\n",
       "      <td>precue</td>\n",
       "      <td>nocue</td>\n",
       "      <td>flower</td>\n",
       "      <td>object</td>\n",
       "      <td>precue</td>\n",
       "      <td>81</td>\n",
       "    </tr>\n",
       "    <tr>\n",
       "      <th>1</th>\n",
       "      <td>s002</td>\n",
       "      <td>31</td>\n",
       "      <td>1</td>\n",
       "      <td>precue</td>\n",
       "      <td>precue</td>\n",
       "      <td>nocue</td>\n",
       "      <td>flower</td>\n",
       "      <td>object</td>\n",
       "      <td>picture1_value</td>\n",
       "      <td>24</td>\n",
       "    </tr>\n",
       "    <tr>\n",
       "      <th>2</th>\n",
       "      <td>s002</td>\n",
       "      <td>31</td>\n",
       "      <td>1</td>\n",
       "      <td>precue</td>\n",
       "      <td>precue</td>\n",
       "      <td>nocue</td>\n",
       "      <td>flower</td>\n",
       "      <td>object</td>\n",
       "      <td>picture2_value</td>\n",
       "      <td>119</td>\n",
       "    </tr>\n",
       "    <tr>\n",
       "      <th>3</th>\n",
       "      <td>s002</td>\n",
       "      <td>31</td>\n",
       "      <td>1</td>\n",
       "      <td>precue</td>\n",
       "      <td>precue</td>\n",
       "      <td>nocue</td>\n",
       "      <td>flower</td>\n",
       "      <td>object</td>\n",
       "      <td>picture3_value</td>\n",
       "      <td>14</td>\n",
       "    </tr>\n",
       "    <tr>\n",
       "      <th>4</th>\n",
       "      <td>s002</td>\n",
       "      <td>31</td>\n",
       "      <td>1</td>\n",
       "      <td>precue</td>\n",
       "      <td>precue</td>\n",
       "      <td>nocue</td>\n",
       "      <td>flower</td>\n",
       "      <td>object</td>\n",
       "      <td>picture4_value</td>\n",
       "      <td>12</td>\n",
       "    </tr>\n",
       "  </tbody>\n",
       "</table>\n",
       "</div>"
      ],
      "text/plain": [
       "  subject  trial_num  response_correct cue_type precue_type postcue_type  \\\n",
       "0    s002         31                 1   precue      precue        nocue   \n",
       "1    s002         31                 1   precue      precue        nocue   \n",
       "2    s002         31                 1   precue      precue        nocue   \n",
       "3    s002         31                 1   precue      precue        nocue   \n",
       "4    s002         31                 1   precue      precue        nocue   \n",
       "\n",
       "  target_identity target_category        variable  value  \n",
       "0          flower          object          precue     81  \n",
       "1          flower          object  picture1_value     24  \n",
       "2          flower          object  picture2_value    119  \n",
       "3          flower          object  picture3_value     14  \n",
       "4          flower          object  picture4_value     12  "
      ]
     },
     "execution_count": 23,
     "metadata": {},
     "output_type": "execute_result"
    }
   ],
   "source": [
    "df_list.head()"
   ]
  },
  {
   "cell_type": "code",
   "execution_count": 24,
   "metadata": {
    "collapsed": false
   },
   "outputs": [],
   "source": [
    "for subject in df_list.subject.unique():\n",
    "    df_list[df_list.subject == subject][['response_correct','cue_type','precue_type','postcue_type',\n",
    "                                         'target_identity','target_category','value']].to_csv('events/'+subject+'_events.txt',\n",
    "                                                                            header=None, index=None)"
   ]
  },
  {
   "cell_type": "code",
   "execution_count": null,
   "metadata": {
    "collapsed": true
   },
   "outputs": [],
   "source": []
  },
  {
   "cell_type": "code",
   "execution_count": null,
   "metadata": {
    "collapsed": true
   },
   "outputs": [],
   "source": []
  },
  {
   "cell_type": "code",
   "execution_count": null,
   "metadata": {
    "collapsed": true
   },
   "outputs": [],
   "source": []
  }
 ],
 "metadata": {
  "kernelspec": {
   "display_name": "Python 2",
   "language": "python",
   "name": "python2"
  },
  "language_info": {
   "codemirror_mode": {
    "name": "ipython",
    "version": 2
   },
   "file_extension": ".py",
   "mimetype": "text/x-python",
   "name": "python",
   "nbconvert_exporter": "python",
   "pygments_lexer": "ipython2",
   "version": "2.7.8"
  }
 },
 "nbformat": 4,
 "nbformat_minor": 0
}
