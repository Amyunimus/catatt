{
 "cells": [
  {
   "cell_type": "markdown",
   "metadata": {},
   "source": [
    "## Overview"
   ]
  },
  {
   "cell_type": "markdown",
   "metadata": {},
   "source": [
    "This script takes as input the in-MEG behavioral data (which is trial based) and transforms it as events for MNE processing.\n",
    "\n",
    "Each trial has several distinct events: \n",
    " - trial onset\n",
    " - precue\n",
    " - each RSVP image (including the target on 'present' trials)\n",
    " - postcue\n",
    " - response\n",
    " - etc.\n",
    " \n",
    "Each of these has a corresponding MEG code:\n",
    "\n",
    "| Event                   | Code Value |\n",
    "|-------------------------|------------|\n",
    "| precue - cue shown      | 81         |\n",
    "| precue - cue not shown  | 80         |\n",
    "| object - flower         | 11         |\n",
    "| object - car            | 12         |\n",
    "| object - shoe           | 13         |\n",
    "| object - chair          | 14         |\n",
    "| scene - woods           | 21         |\n",
    "| scene - bathroom        | 22         |\n",
    "| scene - desert          | 23         |\n",
    "| scene - coast           | 24         |\n",
    "| target image            | ##9        |\n",
    "| postcue - cue shown     | 181        |\n",
    "| postcue - cue not shown | 180        |\n",
    "| response screen         | 77         |\n",
    " \n",
    "This structure makes it easy to categorize events by the type of condition they were a part of. Below is an example of a precued, target-present trial, for which the target was a flower, and that the subjct got correct:\n",
    " \n",
    " \n",
    "| subject | trial_num | response_correct | cue_type | precue_type | postcue_type | target_identity | target_category | variable       | value |\n",
    "|---------|-----------|------------------|----------|:-----------:|--------------|-----------------|-----------------|----------------|-------|\n",
    "| s002    | 1         | 1                | precue   | precue      | nocue        | flower          | object          | precue         | 81    |\n",
    "| s002    | 1         | 1                | precue   | precue      | nocue        | flower          | object          | picture1_value | 24    |\n",
    "| s002    | 1         | 1                | precue   | precue      | nocue        | flower          | object          | picture2_value | 119   |\n",
    "| s002    | 1         | 1                | precue   | precue      | nocue        | flower          | object          | picture3_value | 14    |\n",
    "| s002    | 1         | 1                | precue   | precue      | nocue        | flower          | object          | picture4_value | 12    |\n",
    "| s002    | 1         | 1                | precue   | precue      | nocue        | flower          | object          | picture5_value | 22    |\n",
    "| s002    | 1         | 1                | precue   | precue      | nocue        | flower          | object          | picture6_value | 21    |\n",
    "| s002    | 1         | 1                | precue   | precue      | nocue        | flower          | object          | postcue        | 180   |\n",
    "\n",
    "It may seem redundant, but I can easily subset the MEG data into epochs for \"picture 5\" for which the target category was an object. \n",
    "\n",
    "All of the event/trial categorization should take place in this script. For example, if I wanted to look at the first half of trials, I'd add a column to the resulting events file for \"exp_half [1/2]\"."
   ]
  },
  {
   "cell_type": "code",
   "execution_count": 31,
   "metadata": {
    "collapsed": true
   },
   "outputs": [],
   "source": [
    "import os\n",
    "import pandas as pd"
   ]
  },
  {
   "cell_type": "code",
   "execution_count": 32,
   "metadata": {},
   "outputs": [],
   "source": [
    "data_path = '../../data/raw/'\n",
    "infiles = [item for item in os.listdir(data_path) if item.endswith('txt')]"
   ]
  },
  {
   "cell_type": "code",
   "execution_count": 33,
   "metadata": {
    "collapsed": true
   },
   "outputs": [],
   "source": [
    "columns = ['trial_num','cue_type','target_identity','target_category','choices','target_presence',\n",
    "           'response','response_correct','response_time','total_trial_time',\n",
    "           'precue_value','IDUNNOpre1','IDUNNOpre2','precue_time','precue_time_actual','precue_position',\n",
    "           'picture1_value','IDUNNO1','picture1_stim','picture1_time','picture1_time_actual', 'picture1_posititon',\n",
    "           'picture2_value','IDUNNO2','picture2_stim','picture2_time','picture2_time_actual', 'picture2_posititon',\n",
    "           'picture3_value','IDUNNO3','picture3_stim','picture3_time','picture3_time_actual', 'picture3_posititon',\n",
    "           'picture4_value','IDUNNO4','picture4_stim','picture4_time','picture4_time_actual', 'picture4_posititon',\n",
    "           'picture5_value','IDUNNO5','picture5_stim','picture5_time','picture5_time_actual', 'picture5_posititon',\n",
    "           'picture6_value','IDUNNO6','picture6_stim','picture6_time','picture6_time_actual', 'picture6_posititon',\n",
    "            'postcue_value','IDUNNOpost1','IDUNNOpost2','postcue_time','postcue_time_actual','postcue_position']\n",
    "\n",
    "df_all = []\n",
    "for infile in infiles:\n",
    "    subject =  infile[:4]\n",
    "    if subject not in  ['s002','s008']: #s002 is ok, just not the same format\n",
    "        df = pd.read_csv(data_path+infile, sep=\"\\t\", header = None)\n",
    "        df.columns = columns\n",
    "        df['subject'] = subject\n",
    "        df_all.append(df)\n",
    "    elif subject == 's002':\n",
    "        df2 = pd.read_csv(data_path+infile, sep=\"\\t\")\n",
    "        df2['subject'] = subject\n",
    "        \n",
    "df2.columns = columns+['subject']\n",
    "df_all.append(df2)"
   ]
  },
  {
   "cell_type": "code",
   "execution_count": 35,
   "metadata": {
    "collapsed": true
   },
   "outputs": [],
   "source": [
    "result = pd.concat(df_all)\n",
    "result = result.reset_index(drop=True)"
   ]
  },
  {
   "cell_type": "code",
   "execution_count": null,
   "metadata": {
    "collapsed": true
   },
   "outputs": [],
   "source": [
    "Take the RSVP images and "
   ]
  },
  {
   "cell_type": "code",
   "execution_count": 37,
   "metadata": {
    "collapsed": true
   },
   "outputs": [],
   "source": [
    "stimlist = result[['subject','picture1_value','picture2_value','picture3_value','picture4_value','picture5_value','picture6_value']]"
   ]
  },
  {
   "cell_type": "code",
   "execution_count": 38,
   "metadata": {
    "collapsed": true
   },
   "outputs": [],
   "source": [
    "stimlist = stimlist.apply(lambda x: x.astype(str).str.replace('[',''))\n",
    "stimlist = stimlist.apply(lambda x: x.astype(str).str.replace(']',''))\n",
    "stimlist = stimlist.apply(lambda x: x.astype(str).str.replace(\"'\",''))"
   ]
  },
  {
   "cell_type": "code",
   "execution_count": 39,
   "metadata": {
    "collapsed": true
   },
   "outputs": [],
   "source": [
    "scene_dict = {'woods':1,'bathroom':2,'desert':3,'coast':4}\n",
    "object_dict = {'flower':1,'car':2,'shoe':3,'chair':4}"
   ]
  },
  {
   "cell_type": "code",
   "execution_count": 40,
   "metadata": {
    "collapsed": true
   },
   "outputs": [],
   "source": [
    "stimlist.replace(r'\\bwoods_\\d*\\b', 'woods', regex=True,inplace=True)\n",
    "stimlist.replace(r'\\bbathroom_\\d*\\b', 'bathroom', regex=True,inplace=True)\n",
    "stimlist.replace(r'\\bdesert_\\d*\\b', 'desert', regex=True,inplace=True)\n",
    "stimlist.replace(r'\\bcoast_\\d*\\b', 'coast', regex=True,inplace=True)\n",
    "\n",
    "stimlist.replace(r'\\bflower_\\d*\\b', 'flower', regex=True,inplace=True)\n",
    "stimlist.replace(r'\\bcar_\\d*\\b', 'car', regex=True,inplace=True)\n",
    "stimlist.replace(r'\\bshoe_\\d*\\b', 'shoe', regex=True,inplace=True)\n",
    "stimlist.replace(r'\\bchair_\\d*\\b', 'chair', regex=True,inplace=True)"
   ]
  },
  {
   "cell_type": "code",
   "execution_count": 41,
   "metadata": {
    "collapsed": true
   },
   "outputs": [],
   "source": [
    "stimlist['target_identity'] = result['target_identity']"
   ]
  },
  {
   "cell_type": "code",
   "execution_count": 42,
   "metadata": {
    "collapsed": true
   },
   "outputs": [],
   "source": [
    "stimlist.replace({'woods':21,'bathroom':22,'desert':23,'coast':24},inplace=True)\n",
    "stimlist.replace({'flower':11,'car':12,'shoe':13,'chair':14},inplace=True)"
   ]
  },
  {
   "cell_type": "code",
   "execution_count": 43,
   "metadata": {
    "collapsed": true
   },
   "outputs": [],
   "source": [
    "stimlist = stimlist.reset_index(drop=True)"
   ]
  },
  {
   "cell_type": "code",
   "execution_count": 44,
   "metadata": {
    "collapsed": true
   },
   "outputs": [],
   "source": [
    "stimlist1 = pd.DataFrame(stimlist)\n",
    "for i,row in stimlist1.iterrows():\n",
    "    for item,key in zip(row.values[:6],stimlist1.columns[:6]):\n",
    "        if item == row.values[7]:\n",
    "            stimlist1.loc[i,key] = int(str(item)+'9')"
   ]
  },
  {
   "cell_type": "code",
   "execution_count": 45,
   "metadata": {
    "collapsed": true
   },
   "outputs": [],
   "source": [
    "stimlist1['cue_type'] = result['cue_type']\n",
    "stimlist1['trial_num'] = result['trial_num']\n",
    "stimlist1['response_correct'] = result['response_correct']\n",
    "stimlist1['target_identity'] = result['target_identity']\n",
    "stimlist1['target_category'] = result['target_category']"
   ]
  },
  {
   "cell_type": "code",
   "execution_count": 46,
   "metadata": {
    "collapsed": true
   },
   "outputs": [],
   "source": [
    "stimlist1['precue'] = 80\n",
    "stimlist1['postcue'] = 180\n",
    "\n",
    "stimlist1.loc[stimlist1.cue_type == 'precue','precue'] = 81\n",
    "stimlist1.loc[stimlist1.cue_type == 'postcue','postcue'] = 181\n",
    "stimlist1.loc[stimlist1.cue_type == 'doublecue','precue'] = 81\n",
    "stimlist1.loc[stimlist1.cue_type == 'doublecue','postcue'] = 181"
   ]
  },
  {
   "cell_type": "code",
   "execution_count": 47,
   "metadata": {},
   "outputs": [],
   "source": [
    "stimList_final = stimlist1[['subject','trial_num','response_correct','cue_type','target_identity','target_category',\n",
    "                            'precue','picture1_value','picture2_value','picture3_value','picture4_value',\n",
    "                            'picture5_value','picture6_value','postcue']]"
   ]
  },
  {
   "cell_type": "code",
   "execution_count": 48,
   "metadata": {},
   "outputs": [
    {
     "data": {
      "text/html": [
       "<div>\n",
       "<table border=\"1\" class=\"dataframe\">\n",
       "  <thead>\n",
       "    <tr style=\"text-align: right;\">\n",
       "      <th></th>\n",
       "      <th>subject</th>\n",
       "      <th>trial_num</th>\n",
       "      <th>response_correct</th>\n",
       "      <th>cue_type</th>\n",
       "      <th>target_identity</th>\n",
       "      <th>target_category</th>\n",
       "      <th>precue</th>\n",
       "      <th>picture1_value</th>\n",
       "      <th>picture2_value</th>\n",
       "      <th>picture3_value</th>\n",
       "      <th>picture4_value</th>\n",
       "      <th>picture5_value</th>\n",
       "      <th>picture6_value</th>\n",
       "      <th>postcue</th>\n",
       "    </tr>\n",
       "  </thead>\n",
       "  <tbody>\n",
       "    <tr>\n",
       "      <th>0</th>\n",
       "      <td>s003</td>\n",
       "      <td>1</td>\n",
       "      <td>0</td>\n",
       "      <td>precue</td>\n",
       "      <td>chair</td>\n",
       "      <td>object</td>\n",
       "      <td>81</td>\n",
       "      <td>23</td>\n",
       "      <td>22</td>\n",
       "      <td>13</td>\n",
       "      <td>11</td>\n",
       "      <td>24</td>\n",
       "      <td>12</td>\n",
       "      <td>180</td>\n",
       "    </tr>\n",
       "    <tr>\n",
       "      <th>1</th>\n",
       "      <td>s003</td>\n",
       "      <td>2</td>\n",
       "      <td>0</td>\n",
       "      <td>nocue</td>\n",
       "      <td>False</td>\n",
       "      <td>False</td>\n",
       "      <td>80</td>\n",
       "      <td>23</td>\n",
       "      <td>13</td>\n",
       "      <td>12</td>\n",
       "      <td>24</td>\n",
       "      <td>21</td>\n",
       "      <td>11</td>\n",
       "      <td>180</td>\n",
       "    </tr>\n",
       "    <tr>\n",
       "      <th>2</th>\n",
       "      <td>s003</td>\n",
       "      <td>3</td>\n",
       "      <td>0</td>\n",
       "      <td>postcue</td>\n",
       "      <td>car</td>\n",
       "      <td>object</td>\n",
       "      <td>80</td>\n",
       "      <td>13</td>\n",
       "      <td>11</td>\n",
       "      <td>22</td>\n",
       "      <td>14</td>\n",
       "      <td>21</td>\n",
       "      <td>23</td>\n",
       "      <td>181</td>\n",
       "    </tr>\n",
       "    <tr>\n",
       "      <th>3</th>\n",
       "      <td>s003</td>\n",
       "      <td>4</td>\n",
       "      <td>0</td>\n",
       "      <td>postcue</td>\n",
       "      <td>desert</td>\n",
       "      <td>scene</td>\n",
       "      <td>80</td>\n",
       "      <td>14</td>\n",
       "      <td>22</td>\n",
       "      <td>11</td>\n",
       "      <td>12</td>\n",
       "      <td>21</td>\n",
       "      <td>24</td>\n",
       "      <td>181</td>\n",
       "    </tr>\n",
       "    <tr>\n",
       "      <th>4</th>\n",
       "      <td>s003</td>\n",
       "      <td>5</td>\n",
       "      <td>1</td>\n",
       "      <td>precue</td>\n",
       "      <td>desert</td>\n",
       "      <td>scene</td>\n",
       "      <td>81</td>\n",
       "      <td>14</td>\n",
       "      <td>24</td>\n",
       "      <td>13</td>\n",
       "      <td>21</td>\n",
       "      <td>12</td>\n",
       "      <td>22</td>\n",
       "      <td>180</td>\n",
       "    </tr>\n",
       "  </tbody>\n",
       "</table>\n",
       "</div>"
      ],
      "text/plain": [
       "  subject  trial_num  response_correct cue_type target_identity  \\\n",
       "0    s003          1                 0   precue           chair   \n",
       "1    s003          2                 0    nocue           False   \n",
       "2    s003          3                 0  postcue             car   \n",
       "3    s003          4                 0  postcue          desert   \n",
       "4    s003          5                 1   precue          desert   \n",
       "\n",
       "  target_category  precue  picture1_value  picture2_value  picture3_value  \\\n",
       "0          object      81              23              22              13   \n",
       "1           False      80              23              13              12   \n",
       "2          object      80              13              11              22   \n",
       "3           scene      80              14              22              11   \n",
       "4           scene      81              14              24              13   \n",
       "\n",
       "   picture4_value  picture5_value  picture6_value  postcue  \n",
       "0              11              24              12      180  \n",
       "1              24              21              11      180  \n",
       "2              14              21              23      181  \n",
       "3              12              21              24      181  \n",
       "4              21              12              22      180  "
      ]
     },
     "execution_count": 48,
     "metadata": {},
     "output_type": "execute_result"
    }
   ],
   "source": [
    "stimList_final.head()"
   ]
  },
  {
   "cell_type": "code",
   "execution_count": 49,
   "metadata": {},
   "outputs": [],
   "source": [
    "stimList_final.loc[stimList_final.cue_type == 'precue','precue_type'] = 'precue'\n",
    "stimList_final.loc[stimList_final.cue_type == 'postcue','precue_type'] = 'nocue'\n",
    "stimList_final.loc[stimList_final.cue_type == 'nocue','precue_type'] = 'nocue'\n",
    "stimList_final.loc[stimList_final.cue_type == 'doublecue','precue_type'] = 'precue'\n",
    "stimList_final.loc[stimList_final.cue_type == 'precue','postcue_type'] = 'nocue'\n",
    "stimList_final.loc[stimList_final.cue_type == 'postcue','postcue_type'] = 'postcue'\n",
    "stimList_final.loc[stimList_final.cue_type == 'nocue','postcue_type'] = 'nocue'\n",
    "stimList_final.loc[stimList_final.cue_type == 'doublecue','postcue_type'] = 'postcue'"
   ]
  },
  {
   "cell_type": "code",
   "execution_count": 50,
   "metadata": {
    "collapsed": true
   },
   "outputs": [],
   "source": [
    "df_list = pd.melt(stimList_final,\n",
    "                  id_vars=['subject','trial_num','response_correct','cue_type',\n",
    "                           'precue_type','postcue_type','target_identity',\n",
    "                           'target_category'], \n",
    "                  value_vars=['precue','picture1_value','picture2_value','picture3_value',\n",
    "                              'picture4_value','picture5_value','picture6_value',\n",
    "                              'postcue'])"
   ]
  },
  {
   "cell_type": "code",
   "execution_count": 51,
   "metadata": {},
   "outputs": [
    {
     "name": "stderr",
     "output_type": "stream",
     "text": [
      "/Users/Amyunimus/anaconda2/lib/python2.7/site-packages/ipykernel/__main__.py:1: FutureWarning: sort(columns=....) is deprecated, use sort_values(by=.....)\n",
      "  if __name__ == '__main__':\n"
     ]
    }
   ],
   "source": [
    "df_list = df_list.sort(['subject','trial_num']).reset_index(drop=True)"
   ]
  },
  {
   "cell_type": "code",
   "execution_count": 53,
   "metadata": {},
   "outputs": [
    {
     "data": {
      "text/html": [
       "<div>\n",
       "<table border=\"1\" class=\"dataframe\">\n",
       "  <thead>\n",
       "    <tr style=\"text-align: right;\">\n",
       "      <th></th>\n",
       "      <th>subject</th>\n",
       "      <th>trial_num</th>\n",
       "      <th>response_correct</th>\n",
       "      <th>cue_type</th>\n",
       "      <th>precue_type</th>\n",
       "      <th>postcue_type</th>\n",
       "      <th>target_identity</th>\n",
       "      <th>target_category</th>\n",
       "      <th>variable</th>\n",
       "      <th>value</th>\n",
       "    </tr>\n",
       "  </thead>\n",
       "  <tbody>\n",
       "    <tr>\n",
       "      <th>0</th>\n",
       "      <td>s002</td>\n",
       "      <td>31</td>\n",
       "      <td>1</td>\n",
       "      <td>precue</td>\n",
       "      <td>precue</td>\n",
       "      <td>nocue</td>\n",
       "      <td>flower</td>\n",
       "      <td>object</td>\n",
       "      <td>precue</td>\n",
       "      <td>81</td>\n",
       "    </tr>\n",
       "    <tr>\n",
       "      <th>1</th>\n",
       "      <td>s002</td>\n",
       "      <td>31</td>\n",
       "      <td>1</td>\n",
       "      <td>precue</td>\n",
       "      <td>precue</td>\n",
       "      <td>nocue</td>\n",
       "      <td>flower</td>\n",
       "      <td>object</td>\n",
       "      <td>picture1_value</td>\n",
       "      <td>24</td>\n",
       "    </tr>\n",
       "    <tr>\n",
       "      <th>2</th>\n",
       "      <td>s002</td>\n",
       "      <td>31</td>\n",
       "      <td>1</td>\n",
       "      <td>precue</td>\n",
       "      <td>precue</td>\n",
       "      <td>nocue</td>\n",
       "      <td>flower</td>\n",
       "      <td>object</td>\n",
       "      <td>picture2_value</td>\n",
       "      <td>119</td>\n",
       "    </tr>\n",
       "    <tr>\n",
       "      <th>3</th>\n",
       "      <td>s002</td>\n",
       "      <td>31</td>\n",
       "      <td>1</td>\n",
       "      <td>precue</td>\n",
       "      <td>precue</td>\n",
       "      <td>nocue</td>\n",
       "      <td>flower</td>\n",
       "      <td>object</td>\n",
       "      <td>picture3_value</td>\n",
       "      <td>14</td>\n",
       "    </tr>\n",
       "    <tr>\n",
       "      <th>4</th>\n",
       "      <td>s002</td>\n",
       "      <td>31</td>\n",
       "      <td>1</td>\n",
       "      <td>precue</td>\n",
       "      <td>precue</td>\n",
       "      <td>nocue</td>\n",
       "      <td>flower</td>\n",
       "      <td>object</td>\n",
       "      <td>picture4_value</td>\n",
       "      <td>12</td>\n",
       "    </tr>\n",
       "    <tr>\n",
       "      <th>5</th>\n",
       "      <td>s002</td>\n",
       "      <td>31</td>\n",
       "      <td>1</td>\n",
       "      <td>precue</td>\n",
       "      <td>precue</td>\n",
       "      <td>nocue</td>\n",
       "      <td>flower</td>\n",
       "      <td>object</td>\n",
       "      <td>picture5_value</td>\n",
       "      <td>22</td>\n",
       "    </tr>\n",
       "    <tr>\n",
       "      <th>6</th>\n",
       "      <td>s002</td>\n",
       "      <td>31</td>\n",
       "      <td>1</td>\n",
       "      <td>precue</td>\n",
       "      <td>precue</td>\n",
       "      <td>nocue</td>\n",
       "      <td>flower</td>\n",
       "      <td>object</td>\n",
       "      <td>picture6_value</td>\n",
       "      <td>21</td>\n",
       "    </tr>\n",
       "    <tr>\n",
       "      <th>7</th>\n",
       "      <td>s002</td>\n",
       "      <td>31</td>\n",
       "      <td>1</td>\n",
       "      <td>precue</td>\n",
       "      <td>precue</td>\n",
       "      <td>nocue</td>\n",
       "      <td>flower</td>\n",
       "      <td>object</td>\n",
       "      <td>postcue</td>\n",
       "      <td>180</td>\n",
       "    </tr>\n",
       "    <tr>\n",
       "      <th>8</th>\n",
       "      <td>s002</td>\n",
       "      <td>32</td>\n",
       "      <td>0</td>\n",
       "      <td>nocue</td>\n",
       "      <td>nocue</td>\n",
       "      <td>nocue</td>\n",
       "      <td>FALSE</td>\n",
       "      <td>FALSE</td>\n",
       "      <td>precue</td>\n",
       "      <td>80</td>\n",
       "    </tr>\n",
       "    <tr>\n",
       "      <th>9</th>\n",
       "      <td>s002</td>\n",
       "      <td>32</td>\n",
       "      <td>0</td>\n",
       "      <td>nocue</td>\n",
       "      <td>nocue</td>\n",
       "      <td>nocue</td>\n",
       "      <td>FALSE</td>\n",
       "      <td>FALSE</td>\n",
       "      <td>picture1_value</td>\n",
       "      <td>23</td>\n",
       "    </tr>\n",
       "  </tbody>\n",
       "</table>\n",
       "</div>"
      ],
      "text/plain": [
       "  subject  trial_num  response_correct cue_type precue_type postcue_type  \\\n",
       "0    s002         31                 1   precue      precue        nocue   \n",
       "1    s002         31                 1   precue      precue        nocue   \n",
       "2    s002         31                 1   precue      precue        nocue   \n",
       "3    s002         31                 1   precue      precue        nocue   \n",
       "4    s002         31                 1   precue      precue        nocue   \n",
       "5    s002         31                 1   precue      precue        nocue   \n",
       "6    s002         31                 1   precue      precue        nocue   \n",
       "7    s002         31                 1   precue      precue        nocue   \n",
       "8    s002         32                 0    nocue       nocue        nocue   \n",
       "9    s002         32                 0    nocue       nocue        nocue   \n",
       "\n",
       "  target_identity target_category        variable  value  \n",
       "0          flower          object          precue     81  \n",
       "1          flower          object  picture1_value     24  \n",
       "2          flower          object  picture2_value    119  \n",
       "3          flower          object  picture3_value     14  \n",
       "4          flower          object  picture4_value     12  \n",
       "5          flower          object  picture5_value     22  \n",
       "6          flower          object  picture6_value     21  \n",
       "7          flower          object         postcue    180  \n",
       "8           FALSE           FALSE          precue     80  \n",
       "9           FALSE           FALSE  picture1_value     23  "
      ]
     },
     "execution_count": 53,
     "metadata": {},
     "output_type": "execute_result"
    }
   ],
   "source": [
    "df_list.head(10)"
   ]
  },
  {
   "cell_type": "code",
   "execution_count": 30,
   "metadata": {},
   "outputs": [],
   "source": [
    "data_path_events = '../../data/processed/events/'\n",
    "\n",
    "for subject in df_list.subject.unique():\n",
    "    df_list[df_list.subject == subject][['response_correct','cue_type','precue_type','postcue_type',\n",
    "                                         'target_identity','target_category','value']].to_csv(data_path_events+subject+'_events.txt',\n",
    "                                                                            header=None, index=None)"
   ]
  }
 ],
 "metadata": {
  "kernelspec": {
   "display_name": "Python 2",
   "language": "python",
   "name": "python2"
  },
  "language_info": {
   "codemirror_mode": {
    "name": "ipython",
    "version": 2
   },
   "file_extension": ".py",
   "mimetype": "text/x-python",
   "name": "python",
   "nbconvert_exporter": "python",
   "pygments_lexer": "ipython2",
   "version": "2.7.13"
  }
 },
 "nbformat": 4,
 "nbformat_minor": 1
}
